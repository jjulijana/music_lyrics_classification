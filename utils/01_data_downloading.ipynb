{
 "cells": [
  {
   "cell_type": "code",
   "execution_count": null,
   "id": "37a79bb6",
   "metadata": {},
   "outputs": [],
   "source": [
    "import kagglehub\n",
    "import shutil\n",
    "import pandas as pd\n",
    "\n",
    "from pathlib import Path"
   ]
  },
  {
   "cell_type": "code",
   "execution_count": 2,
   "id": "1344ed41",
   "metadata": {},
   "outputs": [],
   "source": [
    "raw_data_path = Path(\"../data/raw/dataset.csv\")\n",
    "raw_data_path.parent.mkdir(parents=True, exist_ok=True)"
   ]
  },
  {
   "cell_type": "code",
   "execution_count": 3,
   "id": "bbfc947c",
   "metadata": {},
   "outputs": [
    {
     "name": "stdout",
     "output_type": "stream",
     "text": [
      "Downloading from https://www.kaggle.com/api/v1/datasets/download/devdope/900k-spotify?dataset_version_number=3&file_name=spotify_dataset.csv...\n"
     ]
    },
    {
     "name": "stderr",
     "output_type": "stream",
     "text": [
      "100%|██████████| 1.07G/1.07G [04:10<00:00, 4.59MB/s]\n"
     ]
    }
   ],
   "source": [
    "dataset = kagglehub.dataset_download('devdope/900k-spotify', path='spotify_dataset.csv')"
   ]
  },
  {
   "cell_type": "code",
   "execution_count": 4,
   "id": "16d48df3",
   "metadata": {},
   "outputs": [
    {
     "data": {
      "text/plain": [
       "'..\\\\data\\\\raw\\\\dataset.csv'"
      ]
     },
     "execution_count": 4,
     "metadata": {},
     "output_type": "execute_result"
    }
   ],
   "source": [
    "shutil.move(str(dataset), str(raw_data_path))"
   ]
  },
  {
   "cell_type": "code",
   "execution_count": 5,
   "id": "2826eb49",
   "metadata": {},
   "outputs": [
    {
     "data": {
      "text/plain": [
       "['Artist(s)',\n",
       " 'song',\n",
       " 'text',\n",
       " 'Length',\n",
       " 'emotion',\n",
       " 'Genre',\n",
       " 'Album',\n",
       " 'Release Date',\n",
       " 'Key',\n",
       " 'Tempo',\n",
       " 'Loudness (db)',\n",
       " 'Time signature',\n",
       " 'Explicit',\n",
       " 'Popularity',\n",
       " 'Energy',\n",
       " 'Danceability',\n",
       " 'Positiveness',\n",
       " 'Speechiness',\n",
       " 'Liveness',\n",
       " 'Acousticness',\n",
       " 'Instrumentalness',\n",
       " 'Good for Party',\n",
       " 'Good for Work/Study',\n",
       " 'Good for Relaxation/Meditation',\n",
       " 'Good for Exercise',\n",
       " 'Good for Running',\n",
       " 'Good for Yoga/Stretching',\n",
       " 'Good for Driving',\n",
       " 'Good for Social Gatherings',\n",
       " 'Good for Morning Routine',\n",
       " 'Similar Artist 1',\n",
       " 'Similar Song 1',\n",
       " 'Similarity Score 1',\n",
       " 'Similar Artist 2',\n",
       " 'Similar Song 2',\n",
       " 'Similarity Score 2',\n",
       " 'Similar Artist 3',\n",
       " 'Similar Song 3',\n",
       " 'Similarity Score 3']"
      ]
     },
     "execution_count": 5,
     "metadata": {},
     "output_type": "execute_result"
    }
   ],
   "source": [
    "df_full = pd.read_csv(raw_data_path, nrows=0)\n",
    "df_full.columns.tolist()"
   ]
  },
  {
   "cell_type": "code",
   "execution_count": 6,
   "id": "468d3d4d",
   "metadata": {},
   "outputs": [
    {
     "data": {
      "text/html": [
       "<div>\n",
       "<style scoped>\n",
       "    .dataframe tbody tr th:only-of-type {\n",
       "        vertical-align: middle;\n",
       "    }\n",
       "\n",
       "    .dataframe tbody tr th {\n",
       "        vertical-align: top;\n",
       "    }\n",
       "\n",
       "    .dataframe thead th {\n",
       "        text-align: right;\n",
       "    }\n",
       "</style>\n",
       "<table border=\"1\" class=\"dataframe\">\n",
       "  <thead>\n",
       "    <tr style=\"text-align: right;\">\n",
       "      <th></th>\n",
       "      <th>Artist(s)</th>\n",
       "      <th>song</th>\n",
       "      <th>text</th>\n",
       "      <th>emotion</th>\n",
       "    </tr>\n",
       "  </thead>\n",
       "  <tbody>\n",
       "    <tr>\n",
       "      <th>0</th>\n",
       "      <td>!!!</td>\n",
       "      <td>Even When the Waters Cold</td>\n",
       "      <td>Friends told her she was better off at t...</td>\n",
       "      <td>sadness</td>\n",
       "    </tr>\n",
       "    <tr>\n",
       "      <th>1</th>\n",
       "      <td>!!!</td>\n",
       "      <td>One Girl / One Boy</td>\n",
       "      <td>Well I heard it, playing soft From a dru...</td>\n",
       "      <td>sadness</td>\n",
       "    </tr>\n",
       "    <tr>\n",
       "      <th>2</th>\n",
       "      <td>!!!</td>\n",
       "      <td>Pardon My Freedom</td>\n",
       "      <td>Oh my god, did I just say that out loud?...</td>\n",
       "      <td>joy</td>\n",
       "    </tr>\n",
       "    <tr>\n",
       "      <th>3</th>\n",
       "      <td>!!!</td>\n",
       "      <td>Ooo</td>\n",
       "      <td>[Verse 1] Remember when I called you on ...</td>\n",
       "      <td>joy</td>\n",
       "    </tr>\n",
       "    <tr>\n",
       "      <th>4</th>\n",
       "      <td>!!!</td>\n",
       "      <td>Freedom 15</td>\n",
       "      <td>[Verse 1] Calling me like I got somethin...</td>\n",
       "      <td>joy</td>\n",
       "    </tr>\n",
       "    <tr>\n",
       "      <th>5</th>\n",
       "      <td>!!!</td>\n",
       "      <td>All U Writers</td>\n",
       "      <td>All you writers Get out your pens and wr...</td>\n",
       "      <td>love</td>\n",
       "    </tr>\n",
       "    <tr>\n",
       "      <th>6</th>\n",
       "      <td>!!!</td>\n",
       "      <td>Serbia Drums</td>\n",
       "      <td>[Verse 1] We've known working in obscuri...</td>\n",
       "      <td>sadness</td>\n",
       "    </tr>\n",
       "    <tr>\n",
       "      <th>7</th>\n",
       "      <td>!!!</td>\n",
       "      <td>Must Be the Moon</td>\n",
       "      <td>One drink, two drinks, three drinks, fou...</td>\n",
       "      <td>joy</td>\n",
       "    </tr>\n",
       "    <tr>\n",
       "      <th>8</th>\n",
       "      <td>!!!</td>\n",
       "      <td>Slyd</td>\n",
       "      <td>No, that's weird  Slyd, slyd, slyd, you ...</td>\n",
       "      <td>surprise</td>\n",
       "    </tr>\n",
       "    <tr>\n",
       "      <th>9</th>\n",
       "      <td>!!!</td>\n",
       "      <td>Hello? Is This Thing On?</td>\n",
       "      <td>Sometimes you don't say nothing 'cause y...</td>\n",
       "      <td>sadness</td>\n",
       "    </tr>\n",
       "  </tbody>\n",
       "</table>\n",
       "</div>"
      ],
      "text/plain": [
       "  Artist(s)                       song  \\\n",
       "0       !!!  Even When the Waters Cold   \n",
       "1       !!!         One Girl / One Boy   \n",
       "2       !!!          Pardon My Freedom   \n",
       "3       !!!                        Ooo   \n",
       "4       !!!                 Freedom 15   \n",
       "5       !!!              All U Writers   \n",
       "6       !!!               Serbia Drums   \n",
       "7       !!!           Must Be the Moon   \n",
       "8       !!!                       Slyd   \n",
       "9       !!!   Hello? Is This Thing On?   \n",
       "\n",
       "                                          text   emotion  \n",
       "0  Friends told her she was better off at t...   sadness  \n",
       "1  Well I heard it, playing soft From a dru...   sadness  \n",
       "2  Oh my god, did I just say that out loud?...       joy  \n",
       "3  [Verse 1] Remember when I called you on ...       joy  \n",
       "4  [Verse 1] Calling me like I got somethin...       joy  \n",
       "5  All you writers Get out your pens and wr...      love  \n",
       "6  [Verse 1] We've known working in obscuri...   sadness  \n",
       "7  One drink, two drinks, three drinks, fou...       joy  \n",
       "8  No, that's weird  Slyd, slyd, slyd, you ...  surprise  \n",
       "9  Sometimes you don't say nothing 'cause y...   sadness  "
      ]
     },
     "execution_count": 6,
     "metadata": {},
     "output_type": "execute_result"
    }
   ],
   "source": [
    "df = pd.read_csv(raw_data_path, usecols=[\"Artist(s)\", \"song\", \"text\", \"emotion\"], nrows=10)\n",
    "df[\"text\"] = df[\"text\"].str.slice(0, 40) + \"...\"\n",
    "df"
   ]
  }
 ],
 "metadata": {
  "kernelspec": {
   "display_name": ".venv",
   "language": "python",
   "name": "python3"
  },
  "language_info": {
   "codemirror_mode": {
    "name": "ipython",
    "version": 3
   },
   "file_extension": ".py",
   "mimetype": "text/x-python",
   "name": "python",
   "nbconvert_exporter": "python",
   "pygments_lexer": "ipython3",
   "version": "3.12.10"
  }
 },
 "nbformat": 4,
 "nbformat_minor": 5
}
