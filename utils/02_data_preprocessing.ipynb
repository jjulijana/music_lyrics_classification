{
 "cells": [
  {
   "cell_type": "code",
   "execution_count": 1,
   "id": "e647ce09",
   "metadata": {},
   "outputs": [],
   "source": [
    "import pandas as pd\n",
    "import re\n",
    "import matplotlib.pyplot as plt\n",
    "import seaborn as sns\n",
    "\n",
    "from pathlib import Path"
   ]
  },
  {
   "cell_type": "code",
   "execution_count": 2,
   "id": "e2cfdcd2",
   "metadata": {},
   "outputs": [
    {
     "name": "stdout",
     "output_type": "stream",
     "text": [
      "['Artist(s)', 'song', 'text', 'Length', 'emotion', 'Genre', 'Album', 'Release Date', 'Key', 'Tempo', 'Loudness (db)', 'Time signature', 'Explicit', 'Popularity', 'Energy', 'Danceability', 'Positiveness', 'Speechiness', 'Liveness', 'Acousticness', 'Instrumentalness', 'Good for Party', 'Good for Work/Study', 'Good for Relaxation/Meditation', 'Good for Exercise', 'Good for Running', 'Good for Yoga/Stretching', 'Good for Driving', 'Good for Social Gatherings', 'Good for Morning Routine', 'Similar Artist 1', 'Similar Song 1', 'Similarity Score 1', 'Similar Artist 2', 'Similar Song 2', 'Similarity Score 2', 'Similar Artist 3', 'Similar Song 3', 'Similarity Score 3']\n"
     ]
    }
   ],
   "source": [
    "raw_data_path = Path(\"../data/raw/dataset.csv\")\n",
    "df_full = pd.read_csv(raw_data_path, nrows=0)\n",
    "print(df_full.columns.tolist())"
   ]
  },
  {
   "cell_type": "code",
   "execution_count": 3,
   "id": "139b9dcb",
   "metadata": {},
   "outputs": [
    {
     "name": "stdout",
     "output_type": "stream",
     "text": [
      "Dimension before cleaning: (551443, 4)\n"
     ]
    },
    {
     "data": {
      "text/html": [
       "<div>\n",
       "<style scoped>\n",
       "    .dataframe tbody tr th:only-of-type {\n",
       "        vertical-align: middle;\n",
       "    }\n",
       "\n",
       "    .dataframe tbody tr th {\n",
       "        vertical-align: top;\n",
       "    }\n",
       "\n",
       "    .dataframe thead th {\n",
       "        text-align: right;\n",
       "    }\n",
       "</style>\n",
       "<table border=\"1\" class=\"dataframe\">\n",
       "  <thead>\n",
       "    <tr style=\"text-align: right;\">\n",
       "      <th></th>\n",
       "      <th>Artist(s)</th>\n",
       "      <th>song</th>\n",
       "      <th>text</th>\n",
       "      <th>emotion</th>\n",
       "    </tr>\n",
       "  </thead>\n",
       "  <tbody>\n",
       "    <tr>\n",
       "      <th>0</th>\n",
       "      <td>!!!</td>\n",
       "      <td>Even When the Waters Cold</td>\n",
       "      <td>Friends told her she was better off at the bot...</td>\n",
       "      <td>sadness</td>\n",
       "    </tr>\n",
       "    <tr>\n",
       "      <th>1</th>\n",
       "      <td>!!!</td>\n",
       "      <td>One Girl / One Boy</td>\n",
       "      <td>Well I heard it, playing soft From a drunken b...</td>\n",
       "      <td>sadness</td>\n",
       "    </tr>\n",
       "    <tr>\n",
       "      <th>2</th>\n",
       "      <td>!!!</td>\n",
       "      <td>Pardon My Freedom</td>\n",
       "      <td>Oh my god, did I just say that out loud? Shoul...</td>\n",
       "      <td>joy</td>\n",
       "    </tr>\n",
       "    <tr>\n",
       "      <th>3</th>\n",
       "      <td>!!!</td>\n",
       "      <td>Ooo</td>\n",
       "      <td>[Verse 1] Remember when I called you on the te...</td>\n",
       "      <td>joy</td>\n",
       "    </tr>\n",
       "    <tr>\n",
       "      <th>4</th>\n",
       "      <td>!!!</td>\n",
       "      <td>Freedom 15</td>\n",
       "      <td>[Verse 1] Calling me like I got something to s...</td>\n",
       "      <td>joy</td>\n",
       "    </tr>\n",
       "  </tbody>\n",
       "</table>\n",
       "</div>"
      ],
      "text/plain": [
       "  Artist(s)                       song  \\\n",
       "0       !!!  Even When the Waters Cold   \n",
       "1       !!!         One Girl / One Boy   \n",
       "2       !!!          Pardon My Freedom   \n",
       "3       !!!                        Ooo   \n",
       "4       !!!                 Freedom 15   \n",
       "\n",
       "                                                text  emotion  \n",
       "0  Friends told her she was better off at the bot...  sadness  \n",
       "1  Well I heard it, playing soft From a drunken b...  sadness  \n",
       "2  Oh my god, did I just say that out loud? Shoul...      joy  \n",
       "3  [Verse 1] Remember when I called you on the te...      joy  \n",
       "4  [Verse 1] Calling me like I got something to s...      joy  "
      ]
     },
     "execution_count": 3,
     "metadata": {},
     "output_type": "execute_result"
    }
   ],
   "source": [
    "df = pd.read_csv(raw_data_path, usecols=[\"Artist(s)\", \"song\", \"text\", \"emotion\"])\n",
    "print(\"Dimension before cleaning:\", df.shape)\n",
    "df.head(5)"
   ]
  },
  {
   "cell_type": "code",
   "execution_count": 4,
   "id": "6bd1b573",
   "metadata": {},
   "outputs": [],
   "source": [
    "def clean_lyrics(text):\n",
    "    if pd.isnull(text):\n",
    "        return \"\"\n",
    "    text = text.lower()\n",
    "    text = re.sub(r\"\\[.*?\\]\", \"\", text)        # remove [Verse], [Chorus], etc.\n",
    "    text = re.sub(r\"http\\S+\", \"\", text)        # remove URLs\n",
    "    text = re.sub(r\"[^a-zA-Z\\s']\", \"\", text)   # keep letters, spaces, apostrophes\n",
    "    text = re.sub(r\"\\s+\", \" \", text)           # replace multiple spaces with single\n",
    "    return text.strip()                        # trim leading/trailing spaces"
   ]
  },
  {
   "cell_type": "code",
   "execution_count": 5,
   "id": "f5cf5739",
   "metadata": {},
   "outputs": [],
   "source": [
    "df_cleaned = df.copy()\n",
    "df_cleaned[\"clean_text\"] = df_cleaned[\"text\"].apply(clean_lyrics)\n",
    "\n",
    "# Remove lines with NaN values\n",
    "df_cleaned.dropna(subset=[\"song\", \"clean_text\", \"emotion\"], inplace=True)\n",
    "\n",
    "# Remove lines with short text\n",
    "df_cleaned = df_cleaned[df_cleaned[\"clean_text\"].str.len() > 10]"
   ]
  },
  {
   "cell_type": "code",
   "execution_count": 6,
   "id": "53e2fea6",
   "metadata": {},
   "outputs": [
    {
     "name": "stdout",
     "output_type": "stream",
     "text": [
      "After cleaning: (551398, 5)\n"
     ]
    }
   ],
   "source": [
    "# Remove emotions that appear fewer than 100 times\n",
    "min_count = 100\n",
    "valid_emotions = df_cleaned[\"emotion\"].value_counts()\n",
    "valid_emotions = valid_emotions[valid_emotions >= min_count].index\n",
    "df_cleaned = df_cleaned[df_cleaned[\"emotion\"].isin(valid_emotions)]\n",
    "\n",
    "print(\"After cleaning:\", df_cleaned.shape)"
   ]
  },
  {
   "cell_type": "code",
   "execution_count": 7,
   "id": "83dc4f01",
   "metadata": {},
   "outputs": [
    {
     "data": {
      "image/png": "[encoded data removed]",
      "text/plain": [
       "<Figure size 1000x400 with 1 Axes>"
      ]
     },
     "metadata": {},
     "output_type": "display_data"
    }
   ],
   "source": [
    "plt.figure(figsize=(10, 4))\n",
    "sns.countplot(data=df_cleaned, y=\"emotion\", order=df_cleaned[\"emotion\"].value_counts().index)\n",
    "plt.title(\"Emotion distribution in dataset\")\n",
    "plt.xlabel(\"Number of Songs\")\n",
    "plt.ylabel(\"Emotion\")\n",
    "plt.tight_layout()\n",
    "plt.show()"
   ]
  },
  {
   "cell_type": "code",
   "execution_count": 8,
   "id": "c4291b13",
   "metadata": {},
   "outputs": [
    {
     "data": {
      "text/html": [
       "<div>\n",
       "<style scoped>\n",
       "    .dataframe tbody tr th:only-of-type {\n",
       "        vertical-align: middle;\n",
       "    }\n",
       "\n",
       "    .dataframe tbody tr th {\n",
       "        vertical-align: top;\n",
       "    }\n",
       "\n",
       "    .dataframe thead th {\n",
       "        text-align: right;\n",
       "    }\n",
       "</style>\n",
       "<table border=\"1\" class=\"dataframe\">\n",
       "  <thead>\n",
       "    <tr style=\"text-align: right;\">\n",
       "      <th></th>\n",
       "      <th>song</th>\n",
       "      <th>text</th>\n",
       "      <th>clean_text</th>\n",
       "      <th>emotion</th>\n",
       "    </tr>\n",
       "  </thead>\n",
       "  <tbody>\n",
       "    <tr>\n",
       "      <th>0</th>\n",
       "      <td>Even When the Waters Cold</td>\n",
       "      <td>Friends told her she was better off at the bot...</td>\n",
       "      <td>friends told her she was better off at the bot...</td>\n",
       "      <td>sadness</td>\n",
       "    </tr>\n",
       "    <tr>\n",
       "      <th>1</th>\n",
       "      <td>One Girl / One Boy</td>\n",
       "      <td>Well I heard it, playing soft From a drunken b...</td>\n",
       "      <td>well i heard it playing soft from a drunken ba...</td>\n",
       "      <td>sadness</td>\n",
       "    </tr>\n",
       "    <tr>\n",
       "      <th>2</th>\n",
       "      <td>Pardon My Freedom</td>\n",
       "      <td>Oh my god, did I just say that out loud? Shoul...</td>\n",
       "      <td>oh my god did i just say that out loud should'...</td>\n",
       "      <td>joy</td>\n",
       "    </tr>\n",
       "    <tr>\n",
       "      <th>3</th>\n",
       "      <td>Ooo</td>\n",
       "      <td>[Verse 1] Remember when I called you on the te...</td>\n",
       "      <td>remember when i called you on the telephone yo...</td>\n",
       "      <td>joy</td>\n",
       "    </tr>\n",
       "    <tr>\n",
       "      <th>4</th>\n",
       "      <td>Freedom 15</td>\n",
       "      <td>[Verse 1] Calling me like I got something to s...</td>\n",
       "      <td>calling me like i got something to say you tho...</td>\n",
       "      <td>joy</td>\n",
       "    </tr>\n",
       "    <tr>\n",
       "      <th>5</th>\n",
       "      <td>All U Writers</td>\n",
       "      <td>All you writers Get out your pens and write Al...</td>\n",
       "      <td>all you writers get out your pens and write al...</td>\n",
       "      <td>love</td>\n",
       "    </tr>\n",
       "    <tr>\n",
       "      <th>6</th>\n",
       "      <td>Serbia Drums</td>\n",
       "      <td>[Verse 1] We've known working in obscurity and...</td>\n",
       "      <td>we've known working in obscurity and we'll kno...</td>\n",
       "      <td>sadness</td>\n",
       "    </tr>\n",
       "    <tr>\n",
       "      <th>7</th>\n",
       "      <td>Must Be the Moon</td>\n",
       "      <td>One drink, two drinks, three drinks, four She ...</td>\n",
       "      <td>one drink two drinks three drinks four she had...</td>\n",
       "      <td>joy</td>\n",
       "    </tr>\n",
       "    <tr>\n",
       "      <th>8</th>\n",
       "      <td>Slyd</td>\n",
       "      <td>No, that's weird  Slyd, slyd, slyd, you like t...</td>\n",
       "      <td>no that's weird slyd slyd slyd you like the in...</td>\n",
       "      <td>surprise</td>\n",
       "    </tr>\n",
       "    <tr>\n",
       "      <th>9</th>\n",
       "      <td>Hello? Is This Thing On?</td>\n",
       "      <td>Sometimes you don't say nothing 'cause you got...</td>\n",
       "      <td>sometimes you don't say nothing 'cause you got...</td>\n",
       "      <td>sadness</td>\n",
       "    </tr>\n",
       "  </tbody>\n",
       "</table>\n",
       "</div>"
      ],
      "text/plain": [
       "                        song  \\\n",
       "0  Even When the Waters Cold   \n",
       "1         One Girl / One Boy   \n",
       "2          Pardon My Freedom   \n",
       "3                        Ooo   \n",
       "4                 Freedom 15   \n",
       "5              All U Writers   \n",
       "6               Serbia Drums   \n",
       "7           Must Be the Moon   \n",
       "8                       Slyd   \n",
       "9   Hello? Is This Thing On?   \n",
       "\n",
       "                                                text  \\\n",
       "0  Friends told her she was better off at the bot...   \n",
       "1  Well I heard it, playing soft From a drunken b...   \n",
       "2  Oh my god, did I just say that out loud? Shoul...   \n",
       "3  [Verse 1] Remember when I called you on the te...   \n",
       "4  [Verse 1] Calling me like I got something to s...   \n",
       "5  All you writers Get out your pens and write Al...   \n",
       "6  [Verse 1] We've known working in obscurity and...   \n",
       "7  One drink, two drinks, three drinks, four She ...   \n",
       "8  No, that's weird  Slyd, slyd, slyd, you like t...   \n",
       "9  Sometimes you don't say nothing 'cause you got...   \n",
       "\n",
       "                                          clean_text   emotion  \n",
       "0  friends told her she was better off at the bot...   sadness  \n",
       "1  well i heard it playing soft from a drunken ba...   sadness  \n",
       "2  oh my god did i just say that out loud should'...       joy  \n",
       "3  remember when i called you on the telephone yo...       joy  \n",
       "4  calling me like i got something to say you tho...       joy  \n",
       "5  all you writers get out your pens and write al...      love  \n",
       "6  we've known working in obscurity and we'll kno...   sadness  \n",
       "7  one drink two drinks three drinks four she had...       joy  \n",
       "8  no that's weird slyd slyd slyd you like the in...  surprise  \n",
       "9  sometimes you don't say nothing 'cause you got...   sadness  "
      ]
     },
     "execution_count": 8,
     "metadata": {},
     "output_type": "execute_result"
    }
   ],
   "source": [
    "df_cleaned[[\"song\", \"text\", \"clean_text\", \"emotion\"]].head(10)"
   ]
  },
  {
   "cell_type": "code",
   "execution_count": 9,
   "id": "927be036",
   "metadata": {},
   "outputs": [],
   "source": [
    "df_model = df_cleaned[[\"song\", \"clean_text\", \"emotion\"]].copy()\n",
    "df_model.rename(columns={\"clean_text\": \"text\"}, inplace=True)\n",
    "df_model.to_csv(\"../data/processed/preprocessed_lyrics.csv\", index=False)"
   ]
  }
 ],
 "metadata": {
  "kernelspec": {
   "display_name": "venv",
   "language": "python",
   "name": "python3"
  },
  "language_info": {
   "codemirror_mode": {
    "name": "ipython",
    "version": 3
   },
   "file_extension": ".py",
   "mimetype": "text/x-python",
   "name": "python",
   "nbconvert_exporter": "python",
   "pygments_lexer": "ipython3",
   "version": "3.13.5"
  }
 },
 "nbformat": 4,
 "nbformat_minor": 5
}
